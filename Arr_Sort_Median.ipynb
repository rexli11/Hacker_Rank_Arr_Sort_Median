{
 "cells": [
  {
   "cell_type": "code",
   "execution_count": 3,
   "metadata": {},
   "outputs": [
    {
     "name": "stdout",
     "output_type": "stream",
     "text": [
      "median_num =  4\n"
     ]
    }
   ],
   "source": [
    "'''\n",
    "題目 : \n",
    "將arr重新排大小後印出中間值\n",
    "\n",
    "範圍 : \n",
    "1 <= n <= 1000001\n",
    "-10000 <= arr[i] <= 10000\n",
    "\n",
    "解題方向 : \n",
    "重新排大小\n",
    "找出中間值的規則\n",
    "轉換int並印出中間值\n",
    "'''\n",
    "\n",
    "def ArrSortMedian(arr) : \n",
    "    n = len(arr)\n",
    "\n",
    "    arr.sort()\n",
    "    # 找出中間值的index\n",
    "    median_index = int((n - 1) / 2)\n",
    "    median_num = arr[median_index]\n",
    "\n",
    "    print(\"median_num = \", median_num)\n",
    "\n",
    "\n",
    "if __name__ == \"__main__\" :\n",
    "    arr = [8,1,7,4,6,5,3,0,2]\n",
    "    \n",
    "    ArrSortMedian(arr)\n"
   ]
  }
 ],
 "metadata": {
  "interpreter": {
   "hash": "b3ba2566441a7c06988d0923437866b63cedc61552a5af99d1f4fb67d367b25f"
  },
  "kernelspec": {
   "display_name": "Python 3.8.8 ('base')",
   "language": "python",
   "name": "python3"
  },
  "language_info": {
   "codemirror_mode": {
    "name": "ipython",
    "version": 3
   },
   "file_extension": ".py",
   "mimetype": "text/x-python",
   "name": "python",
   "nbconvert_exporter": "python",
   "pygments_lexer": "ipython3",
   "version": "3.8.8"
  },
  "orig_nbformat": 4
 },
 "nbformat": 4,
 "nbformat_minor": 2
}
